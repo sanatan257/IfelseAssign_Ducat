{
 "cells": [
  {
   "cell_type": "code",
   "execution_count": null,
   "id": "07d40273-66b0-4f11-a80b-6d473b509c87",
   "metadata": {},
   "outputs": [],
   "source": [
    "#if\n",
    "#eli\n",
    "#else\n"
   ]
  },
  {
   "cell_type": "code",
   "execution_count": 1,
   "id": "40d4bbcb-723d-43f6-ac1b-4e540ee55e8c",
   "metadata": {},
   "outputs": [
    {
     "name": "stdout",
     "output_type": "stream",
     "text": [
      "55 is equal\n"
     ]
    }
   ],
   "source": [
    "if 55==55:\n",
    "    print(\"55 is equal\")"
   ]
  },
  {
   "cell_type": "code",
   "execution_count": 3,
   "id": "aab5267d-5ad3-4586-ad67-020d18a160f8",
   "metadata": {},
   "outputs": [
    {
     "name": "stdout",
     "output_type": "stream",
     "text": [
      "its not equal\n"
     ]
    }
   ],
   "source": [
    "if 55==56:\n",
    "    print(\"55 is equal\")\n",
    "else:\n",
    "    print(\"its not equal\")"
   ]
  },
  {
   "cell_type": "code",
   "execution_count": 8,
   "id": "ce9d21c3-d74c-460f-bf1a-290fbc74b6a8",
   "metadata": {},
   "outputs": [
    {
     "name": "stdout",
     "output_type": "stream",
     "text": [
      "65 is equal\n"
     ]
    }
   ],
   "source": [
    "if 55==5:\n",
    "    print(\"55 is equal\")\n",
    "elif 65==65:\n",
    "    print(\"65 is equal\")\n",
    "elif 75==75:\n",
    "    print(\"75 is equal\")\n",
    "else:\n",
    "    print(\"nothing worl above\")"
   ]
  },
  {
   "cell_type": "code",
   "execution_count": 16,
   "id": "dcf69abe-a1da-45f5-bf02-65309c7774a8",
   "metadata": {},
   "outputs": [
    {
     "name": "stdout",
     "output_type": "stream",
     "text": [
      "55\n",
      "77\n",
      "99 is block\n"
     ]
    }
   ],
   "source": [
    "if 55==55:\n",
    "    print(\"55\")\n",
    "    if 77 == 77:\n",
    "        print(\"77\")\n",
    "        if 99==9:\n",
    "            print(\"99\")\n",
    "        else:\n",
    "            print(\"99 is block\")\n",
    "    else:\n",
    "        print(\"77 is block\")\n",
    "else:\n",
    "    print(\"55 is block\")"
   ]
  },
  {
   "cell_type": "code",
   "execution_count": 20,
   "id": "7bed38ad-7c31-4ae8-9598-4587a63bf7b8",
   "metadata": {},
   "outputs": [
    {
     "name": "stdout",
     "output_type": "stream",
     "text": [
      "wrong password\n"
     ]
    }
   ],
   "source": [
    "# exercise\n",
    "username =\"sanatan\"\n",
    "password= 1234\n",
    "\n",
    "user_name =\"sanatan\"\n",
    "pasword= 1235\n",
    "\n",
    "if user_name == username and pasword == password:\n",
    "    print(\"you are login\")\n",
    "else:\n",
    "    print(\"wrong password\")"
   ]
  },
  {
   "cell_type": "code",
   "execution_count": 22,
   "id": "0a5fd6a7-2998-4128-8f12-00e8a8c759ca",
   "metadata": {},
   "outputs": [
    {
     "name": "stdin",
     "output_type": "stream",
     "text": [
      "enter username sanatan\n",
      "enter password 12365\n"
     ]
    },
    {
     "name": "stdout",
     "output_type": "stream",
     "text": [
      "incorrect password\n"
     ]
    }
   ],
   "source": [
    "username =\"sanatan\"\n",
    "password= 1234\n",
    "\n",
    "user_input= input(\"enter username\")\n",
    "Password_input= int(input(\"enter password\"))\n",
    "\n",
    "if username==user_input and password ==Password_input:\n",
    "    print(\"login successfully\")\n",
    "else:\n",
    "    print(\"incorrect password\")"
   ]
  },
  {
   "cell_type": "code",
   "execution_count": null,
   "id": "5c92bd7d-e1fa-472a-ad5c-17826ea92922",
   "metadata": {},
   "outputs": [],
   "source": []
  }
 ],
 "metadata": {
  "kernelspec": {
   "display_name": "Python 3 (ipykernel)",
   "language": "python",
   "name": "python3"
  },
  "language_info": {
   "codemirror_mode": {
    "name": "ipython",
    "version": 3
   },
   "file_extension": ".py",
   "mimetype": "text/x-python",
   "name": "python",
   "nbconvert_exporter": "python",
   "pygments_lexer": "ipython3",
   "version": "3.11.7"
  }
 },
 "nbformat": 4,
 "nbformat_minor": 5
}

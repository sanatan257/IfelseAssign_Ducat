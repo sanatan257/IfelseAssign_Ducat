{
 "cells": [
  {
   "cell_type": "code",
   "execution_count": null,
   "id": "70544b9a-bced-402b-97ae-4921b70e0d59",
   "metadata": {},
   "outputs": [],
   "source": []
  },
  {
   "cell_type": "code",
   "execution_count": 21,
   "id": "443adb86-df1a-4c01-8f8a-c5a84cbefb53",
   "metadata": {},
   "outputs": [
    {
     "name": "stdin",
     "output_type": "stream",
     "text": [
      "Enter the number of electricity units consumed:  250\n"
     ]
    },
    {
     "name": "stdout",
     "output_type": "stream",
     "text": [
      "Total Electricity Bill: Rs 1000\n"
     ]
    }
   ],
   "source": [
    "# Qestion 1\n",
    "# Electricity Bill Calculation using only if statements\n",
    "\n",
    "# Input: Number of units consumed\n",
    "units = int(input(\"Enter the number of electricity units consumed: \"))\n",
    "\n",
    "bill = 0\n",
    "\n",
    "# First 100 units: No charge\n",
    "if units > 100:\n",
    "    # Next 100 units (101 to 200): Rs 5 per unit\n",
    "    if units <= 200:\n",
    "        bill = (units - 100) * 5\n",
    "    # Above 200 units: Rs 10 per unit for units beyond 200\n",
    "    if units > 200:\n",
    "        bill = (100 * 5) + (units - 200) * 10\n",
    "else:\n",
    "    bill = 0  # No charge for <=100 units\n",
    "\n",
    "print(\"Total Electricity Bill: Rs\", bill)\n"
   ]
  },
  {
   "cell_type": "code",
   "execution_count": 58,
   "id": "288b79e0-89e7-4061-90fe-fddec96cd23f",
   "metadata": {},
   "outputs": [
    {
     "name": "stdin",
     "output_type": "stream",
     "text": [
      "Enter percentage:  65\n"
     ]
    },
    {
     "name": "stdout",
     "output_type": "stream",
     "text": [
      "Grade: C\n"
     ]
    }
   ],
   "source": [
    "# Q2. Write a program to accept percentage from the user and display the grade according to the following criteria:\n",
    "\n",
    "marks = int(input(\"Enter percentage: \"))\n",
    "\n",
    "if marks > 90:\n",
    "    grade = \"A\"\n",
    "elif marks > 80:\n",
    "    grade = \"B\"\n",
    "elif marks >= 60:\n",
    "    grade = \"C\"\n",
    "else:\n",
    "    grade = \"D\"\n",
    "\n",
    "print(\"Grade:\", grade)\n",
    "\n"
   ]
  },
  {
   "cell_type": "code",
   "execution_count": 61,
   "id": "45deed5b-8c4d-4707-b0c9-9545cdda0bc7",
   "metadata": {},
   "outputs": [
    {
     "name": "stdin",
     "output_type": "stream",
     "text": [
      "Enter age of person 1:  54\n",
      "Enter age of person 2:  48\n",
      "Enter age of person 3:  756\n",
      "Enter age of person 4:  45\n"
     ]
    },
    {
     "name": "stdout",
     "output_type": "stream",
     "text": [
      "Youngest age is: 45\n"
     ]
    }
   ],
   "source": [
    "# Q3. Accept the age of 4 people and display the youngest one? \n",
    "\n",
    "ages = []\n",
    "for Person in range(1, 5):\n",
    "    age = int(input(f\"Enter age of person {Person}: \"))\n",
    "    ages.append(age)\n",
    "\n",
    "print(\"Youngest age is:\", min(ages))\n"
   ]
  },
  {
   "cell_type": "code",
   "execution_count": 66,
   "id": "030f940c-cf4d-4f3f-b7e6-e5da8b8e7ed1",
   "metadata": {},
   "outputs": [
    {
     "name": "stdin",
     "output_type": "stream",
     "text": [
      "Enter the salary 100\n",
      "Enter the year of working 10\n"
     ]
    },
    {
     "name": "stdout",
     "output_type": "stream",
     "text": [
      "Total bonus amount is: 8.0\n"
     ]
    }
   ],
   "source": [
    "# Q4. A company decided to give bonus to employee  \n",
    "salary = float(input(\"Enter the salary\"))\n",
    "year = int(input(\"Enter the year of working\"))\n",
    "\n",
    "if year >10:\n",
    "    bonus = salary * .10\n",
    "elif year >=6:\n",
    "    bonus = salary * .08\n",
    "else:\n",
    "    bonus = salary * .05\n",
    "\n",
    "\n",
    "print(\"Total bonus amount is:\", bonus)\n",
    "\n",
    "\n"
   ]
  },
  {
   "cell_type": "code",
   "execution_count": 78,
   "id": "87133aa1-759c-47de-987b-11d554acb927",
   "metadata": {},
   "outputs": [
    {
     "name": "stdin",
     "output_type": "stream",
     "text": [
      "Enter first number:  45\n",
      "Enter second number:  47\n",
      "Enter third number:  41\n"
     ]
    },
    {
     "name": "stdout",
     "output_type": "stream",
     "text": [
      "Second largest number is: 45\n"
     ]
    }
   ],
   "source": [
    "# Q5. Accept three numbers from the user and display the second largest number? \n",
    "\n",
    "\n",
    "a = int(input(\"Enter first number: \"))\n",
    "b = int(input(\"Enter second number: \"))\n",
    "c = int(input(\"Enter third number: \"))\n",
    "\n",
    "nums = [a, b, c]\n",
    "nums.sort()\n",
    "\n",
    "print(\"Second largest number is:\", nums[1])\n"
   ]
  },
  {
   "cell_type": "code",
   "execution_count": 82,
   "id": "cbee6fdb-2161-4764-93f1-2f8bb8d8c7ee",
   "metadata": {},
   "outputs": [
    {
     "name": "stdin",
     "output_type": "stream",
     "text": [
      "Enter the marked price 9000\n"
     ]
    },
    {
     "name": "stdout",
     "output_type": "stream",
     "text": [
      "Net amount is: 7650.0\n"
     ]
    }
   ],
   "source": [
    "# Q6. Accept the marked price from the user and calculate  the Net amount as (Marked Price –    Discount) to pay  according to following criteria:\n",
    "\n",
    "a = int(input(\"Enter the marked price\"))\n",
    "\n",
    "\n",
    "if a > 10000:\n",
    "    amount = a - (a * 0.2)\n",
    "elif a > 7000:\n",
    "    amount = a - (a * 0.15)\n",
    "else:\n",
    "    amount = a - (a * .10)\n",
    "\n",
    "print(\"Net amount is:\", amount)"
   ]
  },
  {
   "cell_type": "code",
   "execution_count": 86,
   "id": "927bd0f2-8337-4e9d-abdc-4105668a27a6",
   "metadata": {},
   "outputs": [
    {
     "name": "stdin",
     "output_type": "stream",
     "text": [
      "Enter English marks:  85\n",
      "Enter Math marks:  65\n",
      "Enter Science marks:  60\n",
      "Enter Social Studies marks:  40\n"
     ]
    },
    {
     "name": "stdout",
     "output_type": "stream",
     "text": [
      "Commerce Stream alloted\n"
     ]
    }
   ],
   "source": [
    "# Q7. Accept the marks of English, Math and Science,  Social Studies Subject and display the stream allotted  according to following: \n",
    "\n",
    "\n",
    "\n",
    "english = int(input(\"Enter English marks: \"))\n",
    "math = int(input(\"Enter Math marks: \"))\n",
    "science = int(input(\"Enter Science marks: \"))\n",
    "social = int(input(\"Enter Social Studies marks: \"))\n",
    "\n",
    "if english>80  and math >80 and science>80 and social>80:\n",
    "    print(\"Science stream alloted\")\n",
    "\n",
    "elif english > 80 and math > 50 and science > 50:\n",
    "    print(\"Commerce Stream alloted\")\n",
    "\n",
    "elif english > 80 and social > 80:\n",
    "    print(\"Humanities Stream alloted\")\n",
    "\n",
    "else:\n",
    "    print(\"No stream allotted alloted\")\n",
    "\n"
   ]
  },
  {
   "cell_type": "code",
   "execution_count": 89,
   "id": "ce4bc207-bcec-4b08-8d94-4a163b4b597b",
   "metadata": {},
   "outputs": [
    {
     "name": "stdin",
     "output_type": "stream",
     "text": [
      "Enter any number 15\n"
     ]
    },
    {
     "name": "stdout",
     "output_type": "stream",
     "text": [
      "Hello\n"
     ]
    }
   ],
   "source": [
    "# Q8. Write a program to display \"Hello\" if a number entered  by user is a multiple of five, otherwise print \"Bye\"? \n",
    "number = int(input(\"Enter any number\"))\n",
    "\n",
    "if number % 5 == 0:\n",
    "    print(\"Hello\")\n",
    "\n",
    "else:\n",
    "    print(\"Bye\")\n"
   ]
  },
  {
   "cell_type": "code",
   "execution_count": 92,
   "id": "14165387-fe36-4050-99ba-f7a6972b25d3",
   "metadata": {},
   "outputs": [
    {
     "name": "stdin",
     "output_type": "stream",
     "text": [
      "Enter a number: 7845693\n"
     ]
    },
    {
     "name": "stdout",
     "output_type": "stream",
     "text": [
      "No is divisible by 3\n"
     ]
    }
   ],
   "source": [
    "# Q9. Write a program to check whether the last digit of a number entered by user) is divisible by 3 or not?\n",
    "\n",
    "num = int(input(\"Enter a number:\"))\n",
    "last_digit = num % 10\n",
    "\n",
    "if last_digit % 3 ==0:\n",
    "    print(\"No is divisible by 3\")\n",
    "\n",
    "else:\n",
    "    print(\"No not divisible by 3\")"
   ]
  },
  {
   "cell_type": "code",
   "execution_count": 94,
   "id": "2b4e411a-3028-4840-b85b-2a3f712100e0",
   "metadata": {},
   "outputs": [
    {
     "name": "stdin",
     "output_type": "stream",
     "text": [
      "Enter a number:  745\n"
     ]
    },
    {
     "name": "stdout",
     "output_type": "stream",
     "text": [
      "Three-digit number\n"
     ]
    }
   ],
   "source": [
    "# 10 Q10. Write a program to check whether a number entered  is three-digit number or not? \n",
    "\n",
    "num = int(input(\"Enter a number: \"))\n",
    "\n",
    "if 100 <= num <= 999:\n",
    "    print(\"Three-digit number\")\n",
    "else:\n",
    "    print(\"Not a three-digit number\")\n"
   ]
  },
  {
   "cell_type": "code",
   "execution_count": null,
   "id": "9a90df54-036b-465c-89c1-78aa4d5f3c96",
   "metadata": {},
   "outputs": [],
   "source": []
  }
 ],
 "metadata": {
  "kernelspec": {
   "display_name": "Python 3 (ipykernel)",
   "language": "python",
   "name": "python3"
  },
  "language_info": {
   "codemirror_mode": {
    "name": "ipython",
    "version": 3
   },
   "file_extension": ".py",
   "mimetype": "text/x-python",
   "name": "python",
   "nbconvert_exporter": "python",
   "pygments_lexer": "ipython3",
   "version": "3.11.7"
  }
 },
 "nbformat": 4,
 "nbformat_minor": 5
}
